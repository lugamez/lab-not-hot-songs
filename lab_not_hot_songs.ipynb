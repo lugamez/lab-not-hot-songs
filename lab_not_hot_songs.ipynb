{
 "cells": [
  {
   "cell_type": "code",
   "execution_count": 1,
   "id": "730ef494-ee68-4795-a016-11ce5ae74477",
   "metadata": {
    "tags": []
   },
   "outputs": [],
   "source": [
    "import pandas as pd\n",
    "import numpy as np"
   ]
  },
  {
   "cell_type": "code",
   "execution_count": 2,
   "id": "5a2ba5cb-d930-4c27-bd19-c59a95f5e0d1",
   "metadata": {
    "tags": []
   },
   "outputs": [],
   "source": [
    "# Read file with not_hot_songs\n",
    "\n",
    "not_hot_songs = pd.read_excel('top_2000_2023.xlsx')"
   ]
  },
  {
   "cell_type": "code",
   "execution_count": 3,
   "id": "e0aa5196-d9b1-4c7c-bf24-7c922c01dad7",
   "metadata": {
    "tags": []
   },
   "outputs": [],
   "source": [
    "# Rename columns to have consistency with hot_songs df\n",
    "\n",
    "not_hot_songs.columns = ['position', 'title', 'artist', 'year'] "
   ]
  },
  {
   "cell_type": "code",
   "execution_count": 4,
   "id": "009c0921-5117-44e4-8565-d1f85baa5e35",
   "metadata": {
    "tags": []
   },
   "outputs": [
    {
     "data": {
      "text/html": [
       "<div>\n",
       "<style scoped>\n",
       "    .dataframe tbody tr th:only-of-type {\n",
       "        vertical-align: middle;\n",
       "    }\n",
       "\n",
       "    .dataframe tbody tr th {\n",
       "        vertical-align: top;\n",
       "    }\n",
       "\n",
       "    .dataframe thead th {\n",
       "        text-align: right;\n",
       "    }\n",
       "</style>\n",
       "<table border=\"1\" class=\"dataframe\">\n",
       "  <thead>\n",
       "    <tr style=\"text-align: right;\">\n",
       "      <th></th>\n",
       "      <th>position</th>\n",
       "      <th>title</th>\n",
       "      <th>artist</th>\n",
       "      <th>year</th>\n",
       "    </tr>\n",
       "  </thead>\n",
       "  <tbody>\n",
       "    <tr>\n",
       "      <th>0</th>\n",
       "      <td>1</td>\n",
       "      <td>Bohemian Rhapsody</td>\n",
       "      <td>Queen</td>\n",
       "      <td>1975</td>\n",
       "    </tr>\n",
       "    <tr>\n",
       "      <th>1</th>\n",
       "      <td>2</td>\n",
       "      <td>Roller Coaster</td>\n",
       "      <td>Danny Vera</td>\n",
       "      <td>2019</td>\n",
       "    </tr>\n",
       "    <tr>\n",
       "      <th>2</th>\n",
       "      <td>3</td>\n",
       "      <td>Hotel California</td>\n",
       "      <td>Eagles</td>\n",
       "      <td>1977</td>\n",
       "    </tr>\n",
       "    <tr>\n",
       "      <th>3</th>\n",
       "      <td>4</td>\n",
       "      <td>Piano Man</td>\n",
       "      <td>Billy Joel</td>\n",
       "      <td>1973</td>\n",
       "    </tr>\n",
       "    <tr>\n",
       "      <th>4</th>\n",
       "      <td>5</td>\n",
       "      <td>Fix You</td>\n",
       "      <td>Coldplay</td>\n",
       "      <td>2005</td>\n",
       "    </tr>\n",
       "  </tbody>\n",
       "</table>\n",
       "</div>"
      ],
      "text/plain": [
       "   position              title      artist  year\n",
       "0         1  Bohemian Rhapsody       Queen  1975\n",
       "1         2     Roller Coaster  Danny Vera  2019\n",
       "2         3   Hotel California      Eagles  1977\n",
       "3         4          Piano Man  Billy Joel  1973\n",
       "4         5            Fix You    Coldplay  2005"
      ]
     },
     "execution_count": 4,
     "metadata": {},
     "output_type": "execute_result"
    }
   ],
   "source": [
    "# Display not_hot_songs dataframe\n",
    "\n",
    "not_hot_songs.head(5)"
   ]
  },
  {
   "cell_type": "code",
   "execution_count": 5,
   "id": "4cdc0184-75ae-4770-8677-303c5f3c74ed",
   "metadata": {
    "tags": []
   },
   "outputs": [
    {
     "data": {
      "text/html": [
       "<div>\n",
       "<style scoped>\n",
       "    .dataframe tbody tr th:only-of-type {\n",
       "        vertical-align: middle;\n",
       "    }\n",
       "\n",
       "    .dataframe tbody tr th {\n",
       "        vertical-align: top;\n",
       "    }\n",
       "\n",
       "    .dataframe thead th {\n",
       "        text-align: right;\n",
       "    }\n",
       "</style>\n",
       "<table border=\"1\" class=\"dataframe\">\n",
       "  <thead>\n",
       "    <tr style=\"text-align: right;\">\n",
       "      <th></th>\n",
       "      <th>artist</th>\n",
       "      <th>title</th>\n",
       "    </tr>\n",
       "  </thead>\n",
       "  <tbody>\n",
       "    <tr>\n",
       "      <th>0</th>\n",
       "      <td>Queen</td>\n",
       "      <td>Bohemian Rhapsody</td>\n",
       "    </tr>\n",
       "    <tr>\n",
       "      <th>1</th>\n",
       "      <td>Danny Vera</td>\n",
       "      <td>Roller Coaster</td>\n",
       "    </tr>\n",
       "    <tr>\n",
       "      <th>2</th>\n",
       "      <td>Eagles</td>\n",
       "      <td>Hotel California</td>\n",
       "    </tr>\n",
       "    <tr>\n",
       "      <th>3</th>\n",
       "      <td>Billy Joel</td>\n",
       "      <td>Piano Man</td>\n",
       "    </tr>\n",
       "    <tr>\n",
       "      <th>4</th>\n",
       "      <td>Coldplay</td>\n",
       "      <td>Fix You</td>\n",
       "    </tr>\n",
       "  </tbody>\n",
       "</table>\n",
       "</div>"
      ],
      "text/plain": [
       "       artist              title\n",
       "0       Queen  Bohemian Rhapsody\n",
       "1  Danny Vera     Roller Coaster\n",
       "2      Eagles   Hotel California\n",
       "3  Billy Joel          Piano Man\n",
       "4    Coldplay            Fix You"
      ]
     },
     "execution_count": 5,
     "metadata": {},
     "output_type": "execute_result"
    }
   ],
   "source": [
    "# Rearrange columns\n",
    "\n",
    "not_hot_songs = not_hot_songs[['title', 'artist']]\n",
    "not_hot_songs = not_hot_songs[['artist', 'title']]\n",
    "not_hot_songs.head(5)"
   ]
  },
  {
   "cell_type": "code",
   "execution_count": 6,
   "id": "ec572dca-6aa9-46e1-9443-1c8c612e11d5",
   "metadata": {
    "tags": []
   },
   "outputs": [],
   "source": [
    "# Read billboard_top100.csv file with hot_songs\n",
    "\n",
    "hot_songs = pd.read_csv('../../Morning/lab-web-scraping-single-page/billboard_top100.csv')"
   ]
  },
  {
   "cell_type": "code",
   "execution_count": 7,
   "id": "5958cdeb-685b-4355-95fb-9d24ff1a8953",
   "metadata": {
    "tags": []
   },
   "outputs": [],
   "source": [
    "# Drop index column\n",
    "\n",
    "hot_songs.drop(columns='Unnamed: 0', inplace=True)"
   ]
  },
  {
   "cell_type": "code",
   "execution_count": 8,
   "id": "738d298c-0860-4d95-9ba8-4eadd3a1e46a",
   "metadata": {
    "tags": []
   },
   "outputs": [
    {
     "data": {
      "text/html": [
       "<div>\n",
       "<style scoped>\n",
       "    .dataframe tbody tr th:only-of-type {\n",
       "        vertical-align: middle;\n",
       "    }\n",
       "\n",
       "    .dataframe tbody tr th {\n",
       "        vertical-align: top;\n",
       "    }\n",
       "\n",
       "    .dataframe thead th {\n",
       "        text-align: right;\n",
       "    }\n",
       "</style>\n",
       "<table border=\"1\" class=\"dataframe\">\n",
       "  <thead>\n",
       "    <tr style=\"text-align: right;\">\n",
       "      <th></th>\n",
       "      <th>title</th>\n",
       "      <th>artists</th>\n",
       "    </tr>\n",
       "  </thead>\n",
       "  <tbody>\n",
       "    <tr>\n",
       "      <th>0</th>\n",
       "      <td>Rockin' Around The Christmas Tree</td>\n",
       "      <td>Brenda Lee</td>\n",
       "    </tr>\n",
       "    <tr>\n",
       "      <th>1</th>\n",
       "      <td>All I Want For Christmas Is You</td>\n",
       "      <td>Mariah Carey</td>\n",
       "    </tr>\n",
       "    <tr>\n",
       "      <th>2</th>\n",
       "      <td>Jingle Bell Rock</td>\n",
       "      <td>Bobby Helms</td>\n",
       "    </tr>\n",
       "    <tr>\n",
       "      <th>3</th>\n",
       "      <td>Last Christmas</td>\n",
       "      <td>Wham!</td>\n",
       "    </tr>\n",
       "    <tr>\n",
       "      <th>4</th>\n",
       "      <td>A Holly Jolly Christmas</td>\n",
       "      <td>Burl Ives</td>\n",
       "    </tr>\n",
       "    <tr>\n",
       "      <th>...</th>\n",
       "      <td>...</td>\n",
       "      <td>...</td>\n",
       "    </tr>\n",
       "    <tr>\n",
       "      <th>95</th>\n",
       "      <td>El Amor de Su Vida</td>\n",
       "      <td>Grupo Frontera &amp; Grupo Firme</td>\n",
       "    </tr>\n",
       "    <tr>\n",
       "      <th>96</th>\n",
       "      <td>Standing Next To You</td>\n",
       "      <td>Jung Kook</td>\n",
       "    </tr>\n",
       "    <tr>\n",
       "      <th>97</th>\n",
       "      <td>Man Made A Bar</td>\n",
       "      <td>Morgan Wallen Featuring Eric Church</td>\n",
       "    </tr>\n",
       "    <tr>\n",
       "      <th>98</th>\n",
       "      <td>Que Onda</td>\n",
       "      <td>Calle 24 x Chino Pacas x Fuerza Regida</td>\n",
       "    </tr>\n",
       "    <tr>\n",
       "      <th>99</th>\n",
       "      <td>Great Gatsby</td>\n",
       "      <td>Rod Wave</td>\n",
       "    </tr>\n",
       "  </tbody>\n",
       "</table>\n",
       "<p>100 rows × 2 columns</p>\n",
       "</div>"
      ],
      "text/plain": [
       "                                title                                 artists\n",
       "0   Rockin' Around The Christmas Tree                              Brenda Lee\n",
       "1     All I Want For Christmas Is You                            Mariah Carey\n",
       "2                    Jingle Bell Rock                             Bobby Helms\n",
       "3                      Last Christmas                                   Wham!\n",
       "4             A Holly Jolly Christmas                               Burl Ives\n",
       "..                                ...                                     ...\n",
       "95                 El Amor de Su Vida            Grupo Frontera & Grupo Firme\n",
       "96               Standing Next To You                               Jung Kook\n",
       "97                     Man Made A Bar     Morgan Wallen Featuring Eric Church\n",
       "98                           Que Onda  Calle 24 x Chino Pacas x Fuerza Regida\n",
       "99                       Great Gatsby                                Rod Wave\n",
       "\n",
       "[100 rows x 2 columns]"
      ]
     },
     "execution_count": 8,
     "metadata": {},
     "output_type": "execute_result"
    }
   ],
   "source": [
    "# Let's review our hot_songs dataframe\n",
    "\n",
    "hot_songs"
   ]
  },
  {
   "cell_type": "code",
   "execution_count": 9,
   "id": "aec28df6-5499-4974-88d3-d95c29a5dde7",
   "metadata": {
    "tags": []
   },
   "outputs": [],
   "source": [
    "# Merge dataframes and find rows present in both of them\n",
    "\n",
    "merged = not_hot_songs.merge(hot_songs, indicator=True, how='left')\n",
    "rows_in_both = merged[merged['_merge'] == 'both']\n",
    "\n",
    "# Remove rows present in both dataframes\n",
    "\n",
    "not_hot_songs = not_hot_songs[~not_hot_songs.isin(rows_in_both.to_dict('list')).all(1)]"
   ]
  },
  {
   "cell_type": "code",
   "execution_count": 10,
   "id": "76fe030e-1ade-4dfe-89e9-c889877f23f2",
   "metadata": {
    "tags": []
   },
   "outputs": [
    {
     "data": {
      "text/html": [
       "<div>\n",
       "<style scoped>\n",
       "    .dataframe tbody tr th:only-of-type {\n",
       "        vertical-align: middle;\n",
       "    }\n",
       "\n",
       "    .dataframe tbody tr th {\n",
       "        vertical-align: top;\n",
       "    }\n",
       "\n",
       "    .dataframe thead th {\n",
       "        text-align: right;\n",
       "    }\n",
       "</style>\n",
       "<table border=\"1\" class=\"dataframe\">\n",
       "  <thead>\n",
       "    <tr style=\"text-align: right;\">\n",
       "      <th></th>\n",
       "      <th>artist</th>\n",
       "      <th>title</th>\n",
       "      <th>artists</th>\n",
       "      <th>_merge</th>\n",
       "    </tr>\n",
       "  </thead>\n",
       "  <tbody>\n",
       "    <tr>\n",
       "      <th>177</th>\n",
       "      <td>Tracy Chapman</td>\n",
       "      <td>Fast Car</td>\n",
       "      <td>Luke Combs</td>\n",
       "      <td>both</td>\n",
       "    </tr>\n",
       "    <tr>\n",
       "      <th>256</th>\n",
       "      <td>Wham!</td>\n",
       "      <td>Last Christmas</td>\n",
       "      <td>Wham!</td>\n",
       "      <td>both</td>\n",
       "    </tr>\n",
       "    <tr>\n",
       "      <th>757</th>\n",
       "      <td>Mariah Carey</td>\n",
       "      <td>All I Want For Christmas Is You</td>\n",
       "      <td>Mariah Carey</td>\n",
       "      <td>both</td>\n",
       "    </tr>\n",
       "    <tr>\n",
       "      <th>1597</th>\n",
       "      <td>Teddy Swims</td>\n",
       "      <td>Lose Control</td>\n",
       "      <td>Teddy Swims</td>\n",
       "      <td>both</td>\n",
       "    </tr>\n",
       "    <tr>\n",
       "      <th>1845</th>\n",
       "      <td>Taylor Swift</td>\n",
       "      <td>Cruel Summer</td>\n",
       "      <td>Taylor Swift</td>\n",
       "      <td>both</td>\n",
       "    </tr>\n",
       "    <tr>\n",
       "      <th>1903</th>\n",
       "      <td>Ed Sheeran &amp; Elton John</td>\n",
       "      <td>Merry Christmas</td>\n",
       "      <td>Ed Sheeran &amp; Elton John</td>\n",
       "      <td>both</td>\n",
       "    </tr>\n",
       "  </tbody>\n",
       "</table>\n",
       "</div>"
      ],
      "text/plain": [
       "                       artist                            title  \\\n",
       "177             Tracy Chapman                         Fast Car   \n",
       "256                     Wham!                   Last Christmas   \n",
       "757              Mariah Carey  All I Want For Christmas Is You   \n",
       "1597              Teddy Swims                     Lose Control   \n",
       "1845             Taylor Swift                     Cruel Summer   \n",
       "1903  Ed Sheeran & Elton John                  Merry Christmas   \n",
       "\n",
       "                      artists _merge  \n",
       "177                Luke Combs   both  \n",
       "256                     Wham!   both  \n",
       "757              Mariah Carey   both  \n",
       "1597              Teddy Swims   both  \n",
       "1845             Taylor Swift   both  \n",
       "1903  Ed Sheeran & Elton John   both  "
      ]
     },
     "metadata": {},
     "output_type": "display_data"
    }
   ],
   "source": [
    "# Let's check the rows that are repeated in both dataframes\n",
    "\n",
    "display(rows_in_both)"
   ]
  },
  {
   "cell_type": "code",
   "execution_count": 11,
   "id": "4934766b-2cd4-439e-8039-9f2846bf9043",
   "metadata": {
    "tags": []
   },
   "outputs": [
    {
     "data": {
      "text/html": [
       "<div>\n",
       "<style scoped>\n",
       "    .dataframe tbody tr th:only-of-type {\n",
       "        vertical-align: middle;\n",
       "    }\n",
       "\n",
       "    .dataframe tbody tr th {\n",
       "        vertical-align: top;\n",
       "    }\n",
       "\n",
       "    .dataframe thead th {\n",
       "        text-align: right;\n",
       "    }\n",
       "</style>\n",
       "<table border=\"1\" class=\"dataframe\">\n",
       "  <thead>\n",
       "    <tr style=\"text-align: right;\">\n",
       "      <th></th>\n",
       "      <th>artist</th>\n",
       "      <th>title</th>\n",
       "    </tr>\n",
       "  </thead>\n",
       "  <tbody>\n",
       "    <tr>\n",
       "      <th>0</th>\n",
       "      <td>Queen</td>\n",
       "      <td>Bohemian Rhapsody</td>\n",
       "    </tr>\n",
       "    <tr>\n",
       "      <th>1</th>\n",
       "      <td>Danny Vera</td>\n",
       "      <td>Roller Coaster</td>\n",
       "    </tr>\n",
       "    <tr>\n",
       "      <th>2</th>\n",
       "      <td>Eagles</td>\n",
       "      <td>Hotel California</td>\n",
       "    </tr>\n",
       "    <tr>\n",
       "      <th>3</th>\n",
       "      <td>Billy Joel</td>\n",
       "      <td>Piano Man</td>\n",
       "    </tr>\n",
       "    <tr>\n",
       "      <th>4</th>\n",
       "      <td>Coldplay</td>\n",
       "      <td>Fix You</td>\n",
       "    </tr>\n",
       "    <tr>\n",
       "      <th>...</th>\n",
       "      <td>...</td>\n",
       "      <td>...</td>\n",
       "    </tr>\n",
       "    <tr>\n",
       "      <th>1995</th>\n",
       "      <td>Stevie Wonder</td>\n",
       "      <td>Master Blaster (Jammin')</td>\n",
       "    </tr>\n",
       "    <tr>\n",
       "      <th>1996</th>\n",
       "      <td>Neil Young</td>\n",
       "      <td>Harvest</td>\n",
       "    </tr>\n",
       "    <tr>\n",
       "      <th>1997</th>\n",
       "      <td>Radiohead</td>\n",
       "      <td>High And Dry</td>\n",
       "    </tr>\n",
       "    <tr>\n",
       "      <th>1998</th>\n",
       "      <td>Caro Emerald</td>\n",
       "      <td>A Night Like This</td>\n",
       "    </tr>\n",
       "    <tr>\n",
       "      <th>1999</th>\n",
       "      <td>Don Henley</td>\n",
       "      <td>New York Minute</td>\n",
       "    </tr>\n",
       "  </tbody>\n",
       "</table>\n",
       "<p>1994 rows × 2 columns</p>\n",
       "</div>"
      ],
      "text/plain": [
       "             artist                     title\n",
       "0             Queen         Bohemian Rhapsody\n",
       "1        Danny Vera            Roller Coaster\n",
       "2            Eagles          Hotel California\n",
       "3        Billy Joel                 Piano Man\n",
       "4          Coldplay                   Fix You\n",
       "...             ...                       ...\n",
       "1995  Stevie Wonder  Master Blaster (Jammin')\n",
       "1996     Neil Young                   Harvest\n",
       "1997      Radiohead              High And Dry\n",
       "1998   Caro Emerald         A Night Like This\n",
       "1999     Don Henley           New York Minute\n",
       "\n",
       "[1994 rows x 2 columns]"
      ]
     },
     "metadata": {},
     "output_type": "display_data"
    }
   ],
   "source": [
    "# Display the dataframe of songs without the ones that are repeated in both\n",
    "\n",
    "display(not_hot_songs)"
   ]
  },
  {
   "cell_type": "code",
   "execution_count": 12,
   "id": "66f0ef76-fa28-426e-b8be-85ec8d9640d4",
   "metadata": {
    "tags": []
   },
   "outputs": [],
   "source": [
    "# Save new file to csv\n",
    "\n",
    "not_hot_songs.to_csv('not_hot_songs.csv')"
   ]
  },
  {
   "cell_type": "code",
   "execution_count": null,
   "id": "889bc238-b54f-486c-980a-4775f5724374",
   "metadata": {},
   "outputs": [],
   "source": []
  }
 ],
 "metadata": {
  "kernelspec": {
   "display_name": "Python 3 (ipykernel)",
   "language": "python",
   "name": "python3"
  },
  "language_info": {
   "codemirror_mode": {
    "name": "ipython",
    "version": 3
   },
   "file_extension": ".py",
   "mimetype": "text/x-python",
   "name": "python",
   "nbconvert_exporter": "python",
   "pygments_lexer": "ipython3",
   "version": "3.11.5"
  }
 },
 "nbformat": 4,
 "nbformat_minor": 5
}
